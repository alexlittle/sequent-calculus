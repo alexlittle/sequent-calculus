{
 "cells": [
  {
   "metadata": {},
   "cell_type": "markdown",
   "source": [
    "\n",
    "### Sequent Calculus Prover\n",
    "\n",
    "Updated version of Dr Brandon Bennett's Sequent Calculus Prover base on his [Google Collab](https://colab.research.google.com/drive/1AtY3qY32nCcGYyaUeMkdYvZNGxrmj4bt#scrollTo=-qwIlSga7zvz)\n",
    "\n",
    "## Description\n",
    "\n",
    "The purpose of this notebook is to demonstrate Sequent Calculus using the 'native' syntax e.g. (P∨Q)∨R,(¬P∨S),¬(Q∧¬S) ⇒ (R∨S).\n"
   ],
   "id": "3ede4ed061e5f0b4"
  },
  {
   "cell_type": "code",
   "id": "initial_id",
   "metadata": {
    "collapsed": true,
    "ExecuteTime": {
     "end_time": "2025-10-27T18:07:51.387816Z",
     "start_time": "2025-10-27T18:07:49.747566Z"
    }
   },
   "source": [
    "from sequent_calculus_prover import SequentCalculus\n",
    "from IPython.display import Markdown, display\n",
    "\n",
    "default = '((P∨Q)∨R),(¬P∨S),¬(Q∧¬S)⇒(R∨S)'\n",
    "user_sequent = input(f\"Enter value [{default}]: \")\n",
    "if user_sequent.strip() == \"\":\n",
    "    user_sequent = default\n",
    "\n",
    "sq = SequentCalculus()\n",
    "markdown_seq_proof=sq.prove_from_string(user_sequent)\n",
    "\n",
    "\n",
    "display(Markdown(markdown_seq_proof))"
   ],
   "outputs": [
    {
     "data": {
      "text/plain": [
       "<IPython.core.display.Markdown object>"
      ],
      "text/markdown": "- [Level 0] $\\space\\space ((P \\lor  Q) \\lor  R), (\\neg P \\lor  S), \\neg (Q \\land  \\neg S) \\implies (R \\lor  S) _{[\\neg \\implies]}$\n  - [Level 1] $\\space\\space ((P \\lor  Q) \\lor  R), (\\neg P \\lor  S) \\implies (Q \\land  \\neg S), (R \\lor  S) _{[\\implies \\land]}$\n    - [Level 2] $\\space\\space ((P \\lor  Q) \\lor  R), (\\neg P \\lor  S) \\implies \\neg S, (R \\lor  S) _{[\\implies \\neg]}$\n      - [Level 3] $\\space\\space S, ((P \\lor  Q) \\lor  R), (\\neg P \\lor  S) \\implies (R \\lor  S) _{[\\implies \\lor]}$\n        - [Level 4] $\\space\\space S, ((P \\lor  Q) \\lor  R), (\\neg P \\lor  S) \\implies S, R$ - AXIOM\n    - [Level 2] $\\space\\space ((P \\lor  Q) \\lor  R), (\\neg P \\lor  S) \\implies Q, (R \\lor  S) _{[\\implies \\lor]}$\n      - [Level 3] $\\space\\space ((P \\lor  Q) \\lor  R), (\\neg P \\lor  S) \\implies S, Q, R _{[\\lor \\implies]}$\n        - [Level 4] $\\space\\space (\\neg P \\lor  S), R \\implies S, Q, R$ - AXIOM\n        - [Level 4] $\\space\\space (P \\lor  Q), (\\neg P \\lor  S) \\implies S, Q, R _{[\\lor \\implies]}$\n          - [Level 5] $\\space\\space Q, (\\neg P \\lor  S) \\implies S, Q, R$ - AXIOM\n          - [Level 5] $\\space\\space P, (\\neg P \\lor  S) \\implies S, Q, R _{[\\lor \\implies]}$\n            - [Level 6] $\\space\\space S, P \\implies S, Q, R$ - AXIOM\n            - [Level 6] $\\space\\space \\neg P, P \\implies S, Q, R _{[\\neg \\implies]}$\n              - [Level 7] $\\space\\space P \\implies S, P, Q, R$ - AXIOM"
     },
     "metadata": {},
     "output_type": "display_data",
     "jetTransient": {
      "display_id": null
     }
    }
   ],
   "execution_count": 1
  },
  {
   "metadata": {},
   "cell_type": "markdown",
   "source": [
    "One of DeMorgan's Laws\n",
    "The vamous logician DeMorgan established several logical principles relating to the interaction of negation with conjunction and disjunction. One such principle is embodied in the following sequent.\n",
    "¬(𝑝∧𝑞)⇒(¬𝑝∨¬𝑞)"
   ],
   "id": "1b68940f8bc8177e"
  },
  {
   "metadata": {
    "ExecuteTime": {
     "end_time": "2025-10-27T18:07:57.131658Z",
     "start_time": "2025-10-27T18:07:57.127915Z"
    }
   },
   "cell_type": "code",
   "source": [
    "markdown_seq_proof=sq.prove_from_string('¬(𝑝∧𝑞)⇒(¬𝑝∨¬𝑞)')\n",
    "display(Markdown(markdown_seq_proof))"
   ],
   "id": "730b2576cd50ebce",
   "outputs": [
    {
     "data": {
      "text/plain": [
       "<IPython.core.display.Markdown object>"
      ],
      "text/markdown": "- [Level 0] $\\space\\space \\neg (𝑝 \\land  𝑞) \\implies (\\neg 𝑝 \\lor  \\neg 𝑞) _{[\\neg \\implies]}$\n  - [Level 1] $\\space\\space  \\implies (\\neg 𝑝 \\lor  \\neg 𝑞), (𝑝 \\land  𝑞) _{[\\implies \\land]}$\n    - [Level 2] $\\space\\space  \\implies (\\neg 𝑝 \\lor  \\neg 𝑞), 𝑞 _{[\\implies \\lor]}$\n      - [Level 3] $\\space\\space  \\implies 𝑞, \\neg 𝑝, \\neg 𝑞 _{[\\implies \\neg]}$\n        - [Level 4] $\\space\\space 𝑝 \\implies 𝑞, \\neg 𝑞 _{[\\implies \\neg]}$\n          - [Level 5] $\\space\\space 𝑞, 𝑝 \\implies 𝑞$ - AXIOM\n    - [Level 2] $\\space\\space  \\implies (\\neg 𝑝 \\lor  \\neg 𝑞), 𝑝 _{[\\implies \\lor]}$\n      - [Level 3] $\\space\\space  \\implies \\neg 𝑞, 𝑝, \\neg 𝑝 _{[\\implies \\neg]}$\n        - [Level 4] $\\space\\space 𝑞 \\implies 𝑝, \\neg 𝑝 _{[\\implies \\neg]}$\n          - [Level 5] $\\space\\space 𝑞, 𝑝 \\implies 𝑝$ - AXIOM"
     },
     "metadata": {},
     "output_type": "display_data",
     "jetTransient": {
      "display_id": null
     }
    }
   ],
   "execution_count": 2
  },
  {
   "metadata": {},
   "cell_type": "markdown",
   "source": "",
   "id": "88a96f0b52043c61"
  },
  {
   "metadata": {},
   "cell_type": "markdown",
   "source": [
    "\n",
    "#### Invalid Proof Example\n",
    "\n",
    "The following sequent is not valid:\n",
    "(𝑝∨𝑞),(𝑟∨𝑠)⇒(𝑝∨𝑟)\n",
    "\n",
    "We can see that by considering the model  {𝑝=𝐹,𝑞=𝑇,𝑟=𝐹,𝑠=𝑇} , which makes both the left hand formulae true, but the right hand formula false.\n",
    "\n",
    "We can also demonstrate the sequent's invalidity using the Sequent Calulus proof function that we have defined. Note that it only takes one branch of the proof that does not end in an axiom to make the proof negative (ie a proof that the sequent is not valid)."
   ],
   "id": "a9b1a38475e7df6d"
  },
  {
   "metadata": {
    "ExecuteTime": {
     "end_time": "2025-10-27T18:10:14.574729Z",
     "start_time": "2025-10-27T18:10:14.571138Z"
    }
   },
   "cell_type": "code",
   "source": [
    "markdown_seq_proof=sq.prove_from_string(' (𝑝∨𝑞),(𝑟∨𝑠)⇒(𝑝∨𝑟)')\n",
    "display(Markdown(markdown_seq_proof))"
   ],
   "id": "e7332df3f3c44f73",
   "outputs": [
    {
     "data": {
      "text/plain": [
       "<IPython.core.display.Markdown object>"
      ],
      "text/markdown": "- [Level 0] $\\space\\space (𝑝 \\lor  𝑞), (𝑟 \\lor  𝑠) \\implies (𝑝 \\lor  𝑟) _{[\\implies \\lor]}$\n  - [Level 1] $\\space\\space (𝑝 \\lor  𝑞), (𝑟 \\lor  𝑠) \\implies 𝑟, 𝑝 _{[\\lor \\implies]}$\n    - [Level 2] $\\space\\space 𝑞, (𝑟 \\lor  𝑠) \\implies 𝑟, 𝑝 _{[\\lor \\implies]}$\n      - [Level 3] $\\space\\space 𝑞, 𝑠 \\implies 𝑟, 𝑝$ - NON-ATOMIC AXIOM\n      - [Level 3] $\\space\\space 𝑞, 𝑟 \\implies 𝑟, 𝑝$ - AXIOM\n    - [Level 2] $\\space\\space 𝑝, (𝑟 \\lor  𝑠) \\implies 𝑟, 𝑝$ - AXIOM"
     },
     "metadata": {},
     "output_type": "display_data",
     "jetTransient": {
      "display_id": null
     }
    }
   ],
   "execution_count": 3
  }
 ],
 "metadata": {
  "kernelspec": {
   "display_name": "Python 3",
   "language": "python",
   "name": "python3"
  },
  "language_info": {
   "codemirror_mode": {
    "name": "ipython",
    "version": 2
   },
   "file_extension": ".py",
   "mimetype": "text/x-python",
   "name": "python",
   "nbconvert_exporter": "python",
   "pygments_lexer": "ipython2",
   "version": "2.7.6"
  }
 },
 "nbformat": 4,
 "nbformat_minor": 5
}
